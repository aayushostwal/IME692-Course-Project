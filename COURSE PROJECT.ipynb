{
 "cells": [
  {
   "cell_type": "code",
   "execution_count": 58,
   "metadata": {},
   "outputs": [],
   "source": [
    "import pandas as pd\n",
    "import numpy as np\n",
    "import matplotlib.pyplot as plt\n",
    "import seaborn as sns\n",
    "%matplotlib inline "
   ]
  },
  {
   "cell_type": "code",
   "execution_count": 59,
   "metadata": {},
   "outputs": [],
   "source": [
    "train = pd.read_csv('train.csv')"
   ]
  },
  {
   "cell_type": "code",
   "execution_count": 60,
   "metadata": {},
   "outputs": [],
   "source": [
    "test = pd.read_csv('test.csv')"
   ]
  },
  {
   "cell_type": "code",
   "execution_count": 61,
   "metadata": {},
   "outputs": [
    {
     "data": {
      "text/plain": [
       "<matplotlib.axes._subplots.AxesSubplot at 0x1b207845cc8>"
      ]
     },
     "execution_count": 61,
     "metadata": {},
     "output_type": "execute_result"
    },
    {
     "data": {
      "image/png": "[encoded data removed]",
      "text/plain": [
       "<Figure size 432x288 with 2 Axes>"
      ]
     },
     "metadata": {
      "needs_background": "light"
     },
     "output_type": "display_data"
    }
   ],
   "source": [
    "sns.heatmap(train.corr())"
   ]
  },
  {
   "cell_type": "code",
   "execution_count": 62,
   "metadata": {},
   "outputs": [],
   "source": [
    "Y = train['y']\n",
    "Y_test = test['y']"
   ]
  },
  {
   "cell_type": "code",
   "execution_count": 63,
   "metadata": {},
   "outputs": [],
   "source": [
    "X = train.drop(['y'], axis=1)\n",
    "X_test = test.drop('y', axis=1)"
   ]
  },
  {
   "cell_type": "code",
   "execution_count": 64,
   "metadata": {},
   "outputs": [],
   "source": [
    "from sklearn.metrics import classification_report, accuracy_score\n",
    "from sklearn.linear_model import LogisticRegression\n",
    "from sklearn.svm import SVC\n",
    "from sklearn.tree import DecisionTreeClassifier\n",
    "from sklearn.neighbors import KNeighborsClassifier"
   ]
  },
  {
   "cell_type": "code",
   "execution_count": 65,
   "metadata": {},
   "outputs": [
    {
     "name": "stdout",
     "output_type": "stream",
     "text": [
      "<class 'sklearn.linear_model._logistic.LogisticRegression'>\n",
      "Error on test set:  0.16800000000000004\n",
      "==============================================================\n",
      "<class 'sklearn.tree._classes.DecisionTreeClassifier'>\n",
      "Error on test set:  0.31499999999999995\n",
      "==============================================================\n",
      "<class 'sklearn.svm._classes.SVC'>\n",
      "Error on test set:  0.18300000000000005\n",
      "==============================================================\n",
      "<class 'sklearn.neighbors._classification.KNeighborsClassifier'>\n",
      "Error on test set:  0.33599999999999997\n",
      "==============================================================\n"
     ]
    }
   ],
   "source": [
    "for models in [LogisticRegression, DecisionTreeClassifier, SVC, KNeighborsClassifier]:\n",
    "    model = models()\n",
    "    model.fit(X,Y)\n",
    "    predicitons = model.predict(X_test)\n",
    "    error = 1 - accuracy_score(Y_test, predicitons)\n",
    "    print(str(models))\n",
    "    print('Error on test set: ', error)\n",
    "    print('==============================================================')"
   ]
  },
  {
   "cell_type": "code",
   "execution_count": 66,
   "metadata": {},
   "outputs": [
    {
     "data": {
      "text/plain": [
       "x11     True\n",
       "x18     True\n",
       "x14     True\n",
       "x7     False\n",
       "x12    False\n",
       "x10    False\n",
       "x8     False\n",
       "x13    False\n",
       "x17     True\n",
       "x19     True\n",
       "x20     True\n",
       "x15     True\n",
       "x9      True\n",
       "x6      True\n",
       "x16     True\n",
       "x4      True\n",
       "x5      True\n",
       "x1      True\n",
       "x3      True\n",
       "x2      True\n",
       "y       True\n",
       "Name: y, dtype: bool"
      ]
     },
     "execution_count": 66,
     "metadata": {},
     "output_type": "execute_result"
    }
   ],
   "source": [
    "abs(train.corr()['y'].sort_values()) > 0.03"
   ]
  },
  {
   "cell_type": "markdown",
   "metadata": {},
   "source": [
    "Hence we can drop x7, x12,x10,x8,x13 as it have very low coorelation with y -> They just adding noise!"
   ]
  },
  {
   "cell_type": "code",
   "execution_count": 67,
   "metadata": {},
   "outputs": [],
   "source": [
    "features = ['x1', 'x2', 'x3', 'x4', 'x5', 'x6', 'x9', 'x11', 'x14', 'x15', 'x16', 'x17', 'x18', 'x19', 'x20']"
   ]
  },
  {
   "cell_type": "code",
   "execution_count": 68,
   "metadata": {},
   "outputs": [
    {
     "name": "stdout",
     "output_type": "stream",
     "text": [
      "<class 'sklearn.linear_model._logistic.LogisticRegression'>\n",
      "Error on test set:  0.16100000000000003\n",
      "==============================================================\n",
      "<class 'sklearn.tree._classes.DecisionTreeClassifier'>\n",
      "Error on test set:  0.32799999999999996\n",
      "==============================================================\n",
      "<class 'sklearn.svm._classes.SVC'>\n",
      "Error on test set:  0.17600000000000005\n",
      "==============================================================\n",
      "<class 'sklearn.neighbors._classification.KNeighborsClassifier'>\n",
      "Error on test set:  0.30200000000000005\n",
      "==============================================================\n"
     ]
    }
   ],
   "source": [
    "X = train[features]\n",
    "Y = train['y']\n",
    "X_test = test[features]\n",
    "Y_test = test['y']\n",
    "\n",
    "\n",
    "for models in [LogisticRegression, DecisionTreeClassifier, SVC, KNeighborsClassifier]:\n",
    "    model = models()\n",
    "    model.fit(X,Y)\n",
    "    predicitons = model.predict(X_test)\n",
    "    error = 1 - accuracy_score(Y_test, predicitons)\n",
    "    print(str(models))\n",
    "    print('Error on test set: ', error)\n",
    "    print('==============================================================')"
   ]
  },
  {
   "cell_type": "code",
   "execution_count": 69,
   "metadata": {},
   "outputs": [],
   "source": [
    "from sklearn.metrics import RocCurveDisplay, roc_curve, auc"
   ]
  },
  {
   "cell_type": "code",
   "execution_count": 70,
   "metadata": {},
   "outputs": [],
   "source": [
    "best_model = LogisticRegression()\n",
    "best_model.fit(X,Y)\n",
    "pred_best = best_model.predict(X_test)"
   ]
  },
  {
   "cell_type": "code",
   "execution_count": 71,
   "metadata": {},
   "outputs": [],
   "source": [
    "fpr, tpr, thresholds = roc_curve(Y_test, pred_best)\n",
    "roc_auc = auc(fpr, tpr)"
   ]
  },
  {
   "cell_type": "code",
   "execution_count": 72,
   "metadata": {},
   "outputs": [],
   "source": [
    "display = RocCurveDisplay(fpr, tpr, roc_auc,estimator_name='example estimator')"
   ]
  },
  {
   "cell_type": "code",
   "execution_count": 73,
   "metadata": {},
   "outputs": [
    {
     "data": {
      "text/plain": [
       "<sklearn.metrics._plot.roc_curve.RocCurveDisplay at 0x1b207ecc948>"
      ]
     },
     "execution_count": 73,
     "metadata": {},
     "output_type": "execute_result"
    },
    {
     "data": {
      "image/png": "[encoded data removed]",
      "text/plain": [
       "<Figure size 432x288 with 1 Axes>"
      ]
     },
     "metadata": {
      "needs_background": "light"
     },
     "output_type": "display_data"
    }
   ],
   "source": [
    "display.plot()"
   ]
  },
  {
   "cell_type": "markdown",
   "metadata": {},
   "source": [
    "# Linear Regression"
   ]
  },
  {
   "cell_type": "code",
   "execution_count": 74,
   "metadata": {},
   "outputs": [],
   "source": [
    "def sigmoid(z):\n",
    "    return 1/(1 + np.exp(-z))"
   ]
  },
  {
   "cell_type": "code",
   "execution_count": 75,
   "metadata": {},
   "outputs": [],
   "source": [
    "from sklearn.linear_model import LinearRegression "
   ]
  },
  {
   "cell_type": "code",
   "execution_count": 76,
   "metadata": {},
   "outputs": [],
   "source": [
    "model = LinearRegression()\n",
    "model.fit(X,Y)\n",
    "predicitons = model.predict(X)"
   ]
  },
  {
   "cell_type": "code",
   "execution_count": 77,
   "metadata": {},
   "outputs": [],
   "source": [
    "value = {}\n",
    "for thrs in range(30,70):\n",
    "    thrs = thrs/100\n",
    "    pred_bool = (sigmoid(predicitons)>thrs)\n",
    "    pred = np.multiply(pred_bool, 1)\n",
    "    value[thrs] = 1 - accuracy_score(Y, pred)"
   ]
  },
  {
   "cell_type": "code",
   "execution_count": 78,
   "metadata": {},
   "outputs": [
    {
     "data": {
      "text/plain": [
       "{0.3: 0.515,\n",
       " 0.31: 0.515,\n",
       " 0.32: 0.515,\n",
       " 0.33: 0.515,\n",
       " 0.34: 0.515,\n",
       " 0.35: 0.515,\n",
       " 0.36: 0.515,\n",
       " 0.37: 0.515,\n",
       " 0.38: 0.515,\n",
       " 0.39: 0.515,\n",
       " 0.4: 0.51,\n",
       " 0.41: 0.51,\n",
       " 0.42: 0.51,\n",
       " 0.43: 0.505,\n",
       " 0.44: 0.5,\n",
       " 0.45: 0.485,\n",
       " 0.46: 0.47,\n",
       " 0.47: 0.45499999999999996,\n",
       " 0.48: 0.44999999999999996,\n",
       " 0.49: 0.45499999999999996,\n",
       " 0.5: 0.43999999999999995,\n",
       " 0.51: 0.41000000000000003,\n",
       " 0.52: 0.39,\n",
       " 0.53: 0.37,\n",
       " 0.54: 0.33999999999999997,\n",
       " 0.55: 0.32499999999999996,\n",
       " 0.56: 0.30500000000000005,\n",
       " 0.57: 0.27,\n",
       " 0.58: 0.21499999999999997,\n",
       " 0.59: 0.19999999999999996,\n",
       " 0.6: 0.16000000000000003,\n",
       " 0.61: 0.13,\n",
       " 0.62: 0.11499999999999999,\n",
       " 0.63: 0.09999999999999998,\n",
       " 0.64: 0.12,\n",
       " 0.65: 0.135,\n",
       " 0.66: 0.17000000000000004,\n",
       " 0.67: 0.20999999999999996,\n",
       " 0.68: 0.235,\n",
       " 0.69: 0.30000000000000004}"
      ]
     },
     "execution_count": 78,
     "metadata": {},
     "output_type": "execute_result"
    }
   ],
   "source": [
    "value"
   ]
  },
  {
   "cell_type": "code",
   "execution_count": 34,
   "metadata": {},
   "outputs": [],
   "source": [
    "predicitons = model.predict(X_test)\n",
    "\n",
    "pred_bool = sigmoid(predicitons)>0.62\n",
    "\n",
    "pred = np.multiply(pred_bool, 1)\n",
    "accuracy_score(Y_test, pred)"
   ]
  },
  {
   "cell_type": "code",
   "execution_count": 40,
   "metadata": {},
   "outputs": [
    {
     "data": {
      "text/plain": [
       "0.885"
      ]
     },
     "execution_count": 40,
     "metadata": {},
     "output_type": "execute_result"
    }
   ],
   "source": [
    "accuracy_score(Y,np.multiply(sigmoid(model.predict(X)) > 0.62,1))"
   ]
  },
  {
   "cell_type": "code",
   "execution_count": 254,
   "metadata": {},
   "outputs": [
    {
     "data": {
      "text/plain": [
       "{0.3: 0.491,\n",
       " 0.31: 0.491,\n",
       " 0.32: 0.491,\n",
       " 0.33: 0.492,\n",
       " 0.34: 0.491,\n",
       " 0.35: 0.491,\n",
       " 0.36: 0.489,\n",
       " 0.37: 0.489,\n",
       " 0.38: 0.486,\n",
       " 0.39: 0.485,\n",
       " 0.4: 0.482,\n",
       " 0.41: 0.479,\n",
       " 0.42: 0.478,\n",
       " 0.43: 0.478,\n",
       " 0.44: 0.472,\n",
       " 0.45: 0.47,\n",
       " 0.46: 0.46199999999999997,\n",
       " 0.47: 0.45099999999999996,\n",
       " 0.48: 0.43600000000000005,\n",
       " 0.49: 0.43200000000000005,\n",
       " 0.5: 0.41600000000000004,\n",
       " 0.51: 0.405,\n",
       " 0.52: 0.392,\n",
       " 0.53: 0.371,\n",
       " 0.54: 0.35,\n",
       " 0.55: 0.32299999999999995,\n",
       " 0.56: 0.29900000000000004,\n",
       " 0.57: 0.269,\n",
       " 0.58: 0.241,\n",
       " 0.59: 0.21599999999999997,\n",
       " 0.6: 0.18300000000000005,\n",
       " 0.61: 0.15500000000000003,\n",
       " 0.62: 0.15100000000000002,\n",
       " 0.63: 0.15200000000000002,\n",
       " 0.64: 0.17100000000000004,\n",
       " 0.65: 0.20899999999999996,\n",
       " 0.66: 0.242,\n",
       " 0.67: 0.28200000000000003,\n",
       " 0.68: 0.31399999999999995,\n",
       " 0.69: 0.349}"
      ]
     },
     "execution_count": 254,
     "metadata": {},
     "output_type": "execute_result"
    }
   ],
   "source": [
    "X_ = X[features]\n",
    "X_test_ = X_test[features]\n",
    "model = LinearRegression()\n",
    "model.fit(X_,Y)\n",
    "predicitons = model.predict(X_test_)\n",
    "\n",
    "value = {}\n",
    "for thrs in range(30,70):\n",
    "    thrs = thrs/100\n",
    "    pred_bool = (sigmoid(predicitons)>thrs)\n",
    "    pred = np.multiply(pred_bool, 1)\n",
    "    value[thrs] = 1 - accuracy_score(Y_test, pred)\n",
    "\n",
    "value"
   ]
  },
  {
   "cell_type": "code",
   "execution_count": 255,
   "metadata": {},
   "outputs": [
    {
     "data": {
      "text/plain": [
       "0.11499999999999999"
      ]
     },
     "execution_count": 255,
     "metadata": {},
     "output_type": "execute_result"
    }
   ],
   "source": [
    "1- accuracy_score(Y,np.multiply(sigmoid(model.predict(X_)) > 0.62,1))"
   ]
  },
  {
   "cell_type": "code",
   "execution_count": 51,
   "metadata": {},
   "outputs": [],
   "source": [
    "x = {k: v for k, v in sorted(value.items(), key=lambda item: item[1])}"
   ]
  },
  {
   "cell_type": "code",
   "execution_count": 57,
   "metadata": {},
   "outputs": [
    {
     "data": {
      "text/plain": [
       "0.62"
      ]
     },
     "execution_count": 57,
     "metadata": {},
     "output_type": "execute_result"
    }
   ],
   "source": [
    "list(x.keys())[0]"
   ]
  },
  {
   "cell_type": "code",
   "execution_count": null,
   "metadata": {},
   "outputs": [],
   "source": []
  }
 ],
 "metadata": {
  "kernelspec": {
   "display_name": "Python 3",
   "language": "python",
   "name": "python3"
  },
  "language_info": {
   "codemirror_mode": {
    "name": "ipython",
    "version": 3
   },
   "file_extension": ".py",
   "mimetype": "text/x-python",
   "name": "python",
   "nbconvert_exporter": "python",
   "pygments_lexer": "ipython3",
   "version": "3.7.6"
  }
 },
 "nbformat": 4,
 "nbformat_minor": 4
}
